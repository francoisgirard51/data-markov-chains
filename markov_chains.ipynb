{
 "cells": [
  {
   "cell_type": "markdown",
   "id": "a219d1da",
   "metadata": {},
   "source": [
    "# Markov Chains (Optional) "
   ]
  },
  {
   "cell_type": "code",
   "execution_count": 1,
   "id": "fa2a5c01",
   "metadata": {},
   "outputs": [],
   "source": [
    "import numpy as np\n",
    "import matplotlib.pyplot as plt"
   ]
  },
  {
   "cell_type": "markdown",
   "id": "db125487",
   "metadata": {},
   "source": [
    "💫 Imagine that your cat and yourself have a superpower: the power of teleportation 💫\n",
    "\n",
    "🐱 Your cat Emily is quite young and is discovering her superpower. \n",
    "\n",
    "She can use it only in three cities:\n",
    "- 🇫🇷 Paris\n",
    "- 🇬🇧 London\n",
    "- 🇩🇪 Berlin\n",
    "\n",
    "And she can teleport herself from one city to the other only once per day!\n",
    "\n",
    "😱 Since you've been focusing on Le Wagon's Data Science challenges, you've just realised that you don't know where she's gone.\n",
    "\n",
    "👉 However, based on some intuition, you \"know\" that:\n",
    "- from Paris, she will:\n",
    "    - stay in Paris tomorrow with probability 1/3\n",
    "    - move to London with probability 1/3\n",
    "    - move to Berlin with probability 1/3\n",
    "\n",
    "- from London, she will:\n",
    "    - move to Paris with probability 35%\n",
    "    - stay in London with probability 35%\n",
    "    - move to Berlin with probability 30%\n",
    "\n",
    "- from Berlin, she will:\n",
    "    - move to Paris with probability 15%\n",
    "    - move to London with probability 20%\n",
    "    - stay in Berlin tomorrow with probability 65%\n"
   ]
  },
  {
   "cell_type": "markdown",
   "id": "05b201b0",
   "metadata": {},
   "source": [
    "## 🐱 1) Modelling the cat's movement"
   ]
  },
  {
   "cell_type": "markdown",
   "id": "f16e9371",
   "metadata": {},
   "source": [
    "### 1.1) Draft"
   ]
  },
  {
   "cell_type": "markdown",
   "id": "a2c41813",
   "metadata": {},
   "source": [
    "✍️ Take a pen and a piece of paper to visualise Emily's moves."
   ]
  },
  {
   "cell_type": "markdown",
   "id": "89349f64",
   "metadata": {},
   "source": [
    "<details>\n",
    "   <summary>👀 Visual representation of this Markov Chain (try to do it yourself first !)</summary>\n",
    "\n",
    "<img src=\"https://wagon-public-datasets.s3.amazonaws.com/data-science-images/math/markov_chains.png\">\n",
    "\n",
    "</details>"
   ]
  },
  {
   "cell_type": "markdown",
   "id": "2895f788",
   "metadata": {},
   "source": [
    "### ✈️ 1.2) Transitions"
   ]
  },
  {
   "cell_type": "markdown",
   "id": "9be7d0c0",
   "metadata": {},
   "source": [
    "We'll create for you the [`transition_matrix`](https://en.wikipedia.org/wiki/Stochastic_matrix) Q that represents these moves between `[\"paris\", \"london\", \"berlin\"]`\n",
    "\n",
    "\n",
    "If the probability of moving from `i` to `j` in one time step is $P(j|i) = P_{i,j}$, the transition matrix `Q` is given by using $P_{i,j}$ as the i-th row and j-th column element, e.g.,\n",
    "\n",
    "$${\\begin{bmatrix}P_{1,1}&P_{1,2}&\\dots &P_{1,j}&\\dots &P_{1,S}\\\\P_{2,1}&P_{2,2}&\\dots &P_{2,j}&\\dots &P_{2,S}\\\\\\vdots &\\vdots &\\ddots &\\vdots &\\ddots &\\vdots \\\\P_{i,1}&P_{i,2}&\\dots &P_{i,j}&\\dots &P_{i,S}\\\\\\vdots &\\vdots &\\ddots &\\vdots &\\ddots &\\vdots \\\\P_{S,1}&P_{S,2}&\\dots &P_{S,j}&\\dots &P_{S,S}\\\\\\end{bmatrix}}$$\n",
    "\n",
    "So for Emily, the transition matrix will be :\n",
    "\n",
    "$${\\begin{bmatrix}\n",
    "P_{Paris \\rightarrow Paris}&P_{Paris \\rightarrow London} &P_{Paris \\rightarrow Berlin}\\\\\n",
    "P_{London \\rightarrow Paris}&P_{London \\rightarrow London}&P_{London \\rightarrow Berlin}\\\\\n",
    "P_{Berlin \\rightarrow Paris}&P_{Berlin \\rightarrow London}&P_{Berlin \\rightarrow Berlin}\\\\\n",
    "\\end{bmatrix}}$$"
   ]
  },
  {
   "cell_type": "code",
   "execution_count": 2,
   "id": "27c5871f",
   "metadata": {},
   "outputs": [
    {
     "data": {
      "text/plain": [
       "(3, 3)"
      ]
     },
     "metadata": {},
     "output_type": "display_data"
    },
    {
     "data": {
      "text/plain": [
       "array([[0.33333333, 0.33333333, 0.33333333],\n",
       "       [0.35      , 0.35      , 0.3       ],\n",
       "       [0.15      , 0.2       , 0.65      ]])"
      ]
     },
     "metadata": {},
     "output_type": "display_data"
    }
   ],
   "source": [
    "Q = np.array([\n",
    "    [1/3,1/3,1/3],\n",
    "    [0.35,0.35,0.3],\n",
    "    [0.15,0.2,0.65]])\n",
    "display(Q.shape)\n",
    "display(Q)"
   ]
  },
  {
   "cell_type": "markdown",
   "id": "d39373f3",
   "metadata": {},
   "source": [
    "Also called **`stochastic matrixes`**, these matrixes have a remarkable property: Each line is a **`probability vector`**, its coefficients sum up to 1 = 100%"
   ]
  },
  {
   "cell_type": "markdown",
   "id": "66642ae4",
   "metadata": {},
   "source": [
    "👉 Let's imagine Emily started in Paris **initially**  \n",
    "We'll create an initial_position array (1 row  ×  3 columns) storing those information"
   ]
  },
  {
   "cell_type": "code",
   "execution_count": 3,
   "id": "2e233fe5",
   "metadata": {},
   "outputs": [
    {
     "data": {
      "text/plain": [
       "array([[1, 0, 0]])"
      ]
     },
     "metadata": {},
     "output_type": "display_data"
    },
    {
     "name": "stdout",
     "output_type": "stream",
     "text": [
      "shape: (1, 3)\n"
     ]
    }
   ],
   "source": [
    "initial_position = np.array([[1,0,0]])\n",
    "display(initial_position)\n",
    "print(\"shape:\", initial_position.shape)"
   ]
  },
  {
   "cell_type": "markdown",
   "id": "c939d755",
   "metadata": {},
   "source": [
    "❓ What the probability for Emily to be in paris/london/berlin in next step? Try to compute it, using dot products between\n",
    "- some slices of `Q`\n",
    "- and `initial_position`"
   ]
  },
  {
   "cell_type": "code",
   "execution_count": 4,
   "id": "1ef0ce49",
   "metadata": {},
   "outputs": [],
   "source": [
    "proba_paris_to_paris = None # one-liner dot product\n",
    "proba_paris_to_london = None # one-liner dot product\n",
    "proba_paris_to_berlin = None # one-liner dot product"
   ]
  },
  {
   "cell_type": "markdown",
   "id": "53da9ccd",
   "metadata": {},
   "source": [
    "<details>\n",
    "    <summary>Answer</summary>\n",
    "\n",
    "```python\n",
    "proba_paris_to_paris = initial_position.dot(Q[:,0])\n",
    "proba_paris_to_london = initial_position.dot(Q[:,1])\n",
    "proba_paris_to_berlin = initial_position.dot(Q[:,2])\n",
    "```\n",
    "    \n",
    "</details>"
   ]
  },
  {
   "cell_type": "markdown",
   "id": "618ad31b",
   "metadata": {},
   "source": [
    "ℹ️ Now, let's assume you don't know where your cat was last seen, but you have some initial guess: She's **initially**:\n",
    "- in Paris with a probability equal to 30%\n",
    "- in London with a probability equal to 40%\n",
    "- in Berlin with a probability equal to 30%\n",
    "\n",
    "❓ Create your (1,3) array of `initial_position`  "
   ]
  },
  {
   "cell_type": "code",
   "execution_count": 5,
   "id": "c815d5dd",
   "metadata": {
    "tags": [
     "challengify"
    ]
   },
   "outputs": [],
   "source": [
    "initial_position = np.array([[0.3, 0.4, 0.3]])"
   ]
  },
  {
   "cell_type": "markdown",
   "id": "ce6c51a5",
   "metadata": {},
   "source": [
    "❓ Compute the $ (1,3) $ array of probabilities `day_1` of the cat being in each city on ***day 1*** with an elegant math formula ❓\n",
    "\n",
    "<br>\n",
    "\n",
    "<details>\n",
    "    <summary markdown='span'>👀 Hints</summary>\n",
    "\n",
    "Vizualize your matrix product \n",
    "<img src='https://wagon-public-datasets.s3.amazonaws.com/data-science-images/math/vector_dot_matrix.jpeg'>\n",
    "</details>"
   ]
  },
  {
   "cell_type": "code",
   "execution_count": 7,
   "id": "50d01635",
   "metadata": {
    "tags": [
     "challengify"
    ]
   },
   "outputs": [
    {
     "name": "stdout",
     "output_type": "stream",
     "text": [
      "Probabilities on day 1 for each city: [[0.285 0.3   0.415]]\n"
     ]
    }
   ],
   "source": [
    "day_1_probabilities = np.dot(initial_position, Q)\n",
    "print(\"Probabilities on day 1 for each city:\", day_1_probabilities)"
   ]
  },
  {
   "cell_type": "markdown",
   "id": "c27101ed",
   "metadata": {},
   "source": [
    "<details>\n",
    "    <summary markdown='span'>Answer</summary>\n",
    "\n",
    "📚 To compute the (1,3) probabilities of the cat being in each city on ***day 1***:, you can matrix-multiply the (1,3) `initial_position` by the (3,3) `transition_matrix`!\n",
    "\n",
    "👉 We will admit this ***update rule*** for this challenge, but try to convince yourself why it's the case by playing around in various simple cases!\n",
    "    \n",
    "🤓 If you really want more explanations about this update rule, you can check [Cambridge University - Markov Chains](http://www.statslab.cam.ac.uk/~rrw1/markov/M.pdf) but that is clearly not the goal of this bootcamp. So just accept the rule - trust us - and follow the notebook step-by-step.\n",
    "    \n",
    "</details>"
   ]
  },
  {
   "cell_type": "markdown",
   "id": "e6896bf7",
   "metadata": {},
   "source": [
    "❓ What is the probability that Emily will be in Paris on day 2 ? What about London and Berlin ❓"
   ]
  },
  {
   "cell_type": "code",
   "execution_count": 8,
   "id": "6cb0df4d",
   "metadata": {
    "tags": [
     "challengify"
    ]
   },
   "outputs": [
    {
     "name": "stdout",
     "output_type": "stream",
     "text": [
      "Probabilities on day 2 for each city: [[0.26225 0.283   0.45475]]\n"
     ]
    }
   ],
   "source": [
    "day_2_probabilities = np.dot(day_1_probabilities, Q)\n",
    "print(\"Probabilities on day 2 for each city:\", day_2_probabilities)"
   ]
  },
  {
   "cell_type": "markdown",
   "id": "162c3d47",
   "metadata": {},
   "source": [
    "### ⏳ 1.3) Where is the cat *n* days later ? "
   ]
  },
  {
   "cell_type": "markdown",
   "id": "deb48e98",
   "metadata": {},
   "source": [
    "❓ Create a function `emily` which computes the probabilities of Emily being in Paris, Berlin and London after `n_days`❓\n",
    "\n",
    "* `Inputs` : `initial_position`, `transition_matrix` and `n_days`\n",
    "* `Output` : probabilities of each city"
   ]
  },
  {
   "cell_type": "code",
   "execution_count": 9,
   "id": "87fc2ee1",
   "metadata": {},
   "outputs": [],
   "source": [
    "def emily(initial_position, transition_matrix, n_days):\n",
    "    current_position = initial_position\n",
    "    \n",
    "    for _ in range(n_days):\n",
    "        current_position = np.dot(current_position, transition_matrix)\n",
    "    return current_position"
   ]
  },
  {
   "cell_type": "markdown",
   "id": "c7b9d85f",
   "metadata": {},
   "source": [
    "❓ So, where will Emily be in 100 days ❓"
   ]
  },
  {
   "cell_type": "code",
   "execution_count": 10,
   "id": "7cb3e9bf",
   "metadata": {
    "tags": [
     "challengify"
    ]
   },
   "outputs": [
    {
     "name": "stdout",
     "output_type": "stream",
     "text": [
      "Probabilities after 100 days for each city: [[0.25093633 0.27465668 0.47440699]]\n"
     ]
    }
   ],
   "source": [
    "n_days = 100\n",
    "probabilities_after_100_days = emily(initial_position, Q, n_days)\n",
    "print(\"Probabilities after 100 days for each city:\", probabilities_after_100_days)"
   ]
  },
  {
   "cell_type": "markdown",
   "id": "3e596efc",
   "metadata": {},
   "source": [
    "### 📈 1.4) Visualising the probabilities overtime"
   ]
  },
  {
   "cell_type": "markdown",
   "id": "73647e6b",
   "metadata": {},
   "source": [
    "❓ Plot the probabilities of being in each city over time\n",
    "\n",
    "😉 This last question is non-guided !"
   ]
  },
  {
   "cell_type": "code",
   "execution_count": 13,
   "id": "8a0d36d1",
   "metadata": {},
   "outputs": [
    {
     "data": {
      "image/png": "[encoded data removed]",
      "text/plain": [
       "<Figure size 640x480 with 1 Axes>"
      ]
     },
     "metadata": {},
     "output_type": "display_data"
    }
   ],
   "source": [
    "def emily_over_time(initial_position, transition_matrix, n_days):\n",
    "    current_position = initial_position\n",
    "    probabilities_over_time = [current_position]\n",
    "    \n",
    "    for _ in range(n_days):\n",
    "        current_position = np.dot(current_position, transition_matrix)\n",
    "        probabilities_over_time.append(current_position)\n",
    "    \n",
    "    probabilities_over_time = np.array(probabilities_over_time).squeeze()\n",
    "    return probabilities_over_time\n",
    "\n",
    "probabilities_over_time = emily_over_time(initial_position, Q, n_days)\n",
    "\n",
    "plt.plot(probabilities_over_time[:, 0], label='Paris')\n",
    "plt.plot(probabilities_over_time[:, 1], label='London')\n",
    "plt.plot(probabilities_over_time[:, 2], label='Berlin')\n",
    "plt.xlabel('Days')\n",
    "plt.ylabel('Probability')\n",
    "plt.title('Probability of Emily Being in Each City Over Time')\n",
    "plt.legend()\n",
    "plt.show()"
   ]
  },
  {
   "cell_type": "markdown",
   "id": "a7923ad8",
   "metadata": {},
   "source": [
    "## 🥡 2) Takeaways"
   ]
  },
  {
   "cell_type": "markdown",
   "id": "cfac254c",
   "metadata": {},
   "source": [
    "❤️ After `Emily in Paris`, we'll most likely have `Emily in Berlin` in the long run !\n",
    "\n",
    "❗️ ***Not all the Markov Chains converge to a stable state ❗️*** Think about a hamster who lives between two states 0 and 1 and moves from one to the other with probability 1 each day ! \n",
    "\n",
    "💡 Did you know? \n",
    "- Google computes the probability that from one page, you click on other pages ! \n",
    "- Its secret algorithm is based on Markov Chains (and of course advanced refinements which made the founders billionaires...!)\n",
    "- 📚 `Google Search Engine` : [Analytics Vidhya article - Google Page Rank and Markov Chains](https://medium.com/analytics-vidhya/google-page-rank-and-markov-chains-d65717b98f9c)\n"
   ]
  },
  {
   "cell_type": "markdown",
   "id": "cc19159c",
   "metadata": {},
   "source": [
    "🏁 Congratulations !\n",
    "\n",
    "💾 Do not forget to `git add/commit/push`\n",
    "\n",
    "😁 No panic if Markov Chains are still not clear for you. This challenge was more like an introduction to this topic, however for Data Analyst and Junior Data Scientists, you won't need necessarily use it :) \n",
    "\n",
    "🥳 Consider that it was a good opportunity to manipulate tools from `Linear Algebra` such as `matrixes` and tools from `Probabilty Theory` such as `probability distributions` !"
   ]
  }
 ],
 "metadata": {
  "kernelspec": {
   "display_name": "Python 3 (ipykernel)",
   "language": "python",
   "name": "python3"
  },
  "language_info": {
   "codemirror_mode": {
    "name": "ipython",
    "version": 3
   },
   "file_extension": ".py",
   "mimetype": "text/x-python",
   "name": "python",
   "nbconvert_exporter": "python",
   "pygments_lexer": "ipython3",
   "version": "3.10.6"
  },
  "toc": {
   "base_numbering": 1,
   "nav_menu": {},
   "number_sections": true,
   "sideBar": true,
   "skip_h1_title": false,
   "title_cell": "Table of Contents",
   "title_sidebar": "Contents",
   "toc_cell": false,
   "toc_position": {},
   "toc_section_display": true,
   "toc_window_display": false
  }
 },
 "nbformat": 4,
 "nbformat_minor": 5
}
